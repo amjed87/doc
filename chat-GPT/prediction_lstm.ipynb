{
 "cells": [
  {
   "cell_type": "code",
   "execution_count": 1,
   "metadata": {},
   "outputs": [],
   "source": [
    "import numpy as np\n",
    "import pandas as pd\n",
    "import yfinance as yf\n",
    "from datetime import timedelta\n",
    "from sklearn.preprocessing import MinMaxScaler\n",
    "from sklearn.model_selection import train_test_split\n",
    "from keras.models import Sequential\n",
    "from sklearn.metrics import mean_squared_error, mean_absolute_error \n",
    "from keras.layers import LSTM, Dense, Dropout\n",
    "import matplotlib.pyplot as plt\n",
    "plt.style.use(\"bmh\")"
   ]
  },
  {
   "cell_type": "code",
   "execution_count": 2,
   "metadata": {},
   "outputs": [
    {
     "name": "stdout",
     "output_type": "stream",
     "text": [
      "[*********************100%***********************]  1 of 1 completed\n"
     ]
    },
    {
     "data": {
      "text/html": [
       "<div>\n",
       "<style scoped>\n",
       "    .dataframe tbody tr th:only-of-type {\n",
       "        vertical-align: middle;\n",
       "    }\n",
       "\n",
       "    .dataframe tbody tr th {\n",
       "        vertical-align: top;\n",
       "    }\n",
       "\n",
       "    .dataframe thead th {\n",
       "        text-align: right;\n",
       "    }\n",
       "</style>\n",
       "<table border=\"1\" class=\"dataframe\">\n",
       "  <thead>\n",
       "    <tr style=\"text-align: right;\">\n",
       "      <th></th>\n",
       "      <th>Open</th>\n",
       "      <th>High</th>\n",
       "      <th>Low</th>\n",
       "      <th>Close</th>\n",
       "      <th>Adj Close</th>\n",
       "      <th>Volume</th>\n",
       "    </tr>\n",
       "    <tr>\n",
       "      <th>Date</th>\n",
       "      <th></th>\n",
       "      <th></th>\n",
       "      <th></th>\n",
       "      <th></th>\n",
       "      <th></th>\n",
       "      <th></th>\n",
       "    </tr>\n",
       "  </thead>\n",
       "  <tbody>\n",
       "    <tr>\n",
       "      <th>2014-09-17</th>\n",
       "      <td>465.864014</td>\n",
       "      <td>468.174011</td>\n",
       "      <td>452.421997</td>\n",
       "      <td>457.334015</td>\n",
       "      <td>457.334015</td>\n",
       "      <td>21056800</td>\n",
       "    </tr>\n",
       "    <tr>\n",
       "      <th>2014-09-18</th>\n",
       "      <td>456.859985</td>\n",
       "      <td>456.859985</td>\n",
       "      <td>413.104004</td>\n",
       "      <td>424.440002</td>\n",
       "      <td>424.440002</td>\n",
       "      <td>34483200</td>\n",
       "    </tr>\n",
       "    <tr>\n",
       "      <th>2014-09-19</th>\n",
       "      <td>424.102997</td>\n",
       "      <td>427.834991</td>\n",
       "      <td>384.532013</td>\n",
       "      <td>394.795990</td>\n",
       "      <td>394.795990</td>\n",
       "      <td>37919700</td>\n",
       "    </tr>\n",
       "    <tr>\n",
       "      <th>2014-09-20</th>\n",
       "      <td>394.673004</td>\n",
       "      <td>423.295990</td>\n",
       "      <td>389.882996</td>\n",
       "      <td>408.903992</td>\n",
       "      <td>408.903992</td>\n",
       "      <td>36863600</td>\n",
       "    </tr>\n",
       "    <tr>\n",
       "      <th>2014-09-21</th>\n",
       "      <td>408.084991</td>\n",
       "      <td>412.425995</td>\n",
       "      <td>393.181000</td>\n",
       "      <td>398.821014</td>\n",
       "      <td>398.821014</td>\n",
       "      <td>26580100</td>\n",
       "    </tr>\n",
       "    <tr>\n",
       "      <th>...</th>\n",
       "      <td>...</td>\n",
       "      <td>...</td>\n",
       "      <td>...</td>\n",
       "      <td>...</td>\n",
       "      <td>...</td>\n",
       "      <td>...</td>\n",
       "    </tr>\n",
       "    <tr>\n",
       "      <th>2023-02-02</th>\n",
       "      <td>23720.824219</td>\n",
       "      <td>24167.210938</td>\n",
       "      <td>23468.595703</td>\n",
       "      <td>23471.871094</td>\n",
       "      <td>23471.871094</td>\n",
       "      <td>32066936882</td>\n",
       "    </tr>\n",
       "    <tr>\n",
       "      <th>2023-02-03</th>\n",
       "      <td>23469.412109</td>\n",
       "      <td>23678.103516</td>\n",
       "      <td>23279.955078</td>\n",
       "      <td>23449.322266</td>\n",
       "      <td>23449.322266</td>\n",
       "      <td>27083066007</td>\n",
       "    </tr>\n",
       "    <tr>\n",
       "      <th>2023-02-04</th>\n",
       "      <td>23446.320312</td>\n",
       "      <td>23556.949219</td>\n",
       "      <td>23291.794922</td>\n",
       "      <td>23331.847656</td>\n",
       "      <td>23331.847656</td>\n",
       "      <td>15639298538</td>\n",
       "    </tr>\n",
       "    <tr>\n",
       "      <th>2023-02-05</th>\n",
       "      <td>23332.248047</td>\n",
       "      <td>23423.435547</td>\n",
       "      <td>22841.759766</td>\n",
       "      <td>22955.666016</td>\n",
       "      <td>22955.666016</td>\n",
       "      <td>19564262605</td>\n",
       "    </tr>\n",
       "    <tr>\n",
       "      <th>2023-02-06</th>\n",
       "      <td>22959.066406</td>\n",
       "      <td>23114.501953</td>\n",
       "      <td>22734.601562</td>\n",
       "      <td>23001.607422</td>\n",
       "      <td>23001.607422</td>\n",
       "      <td>23976634368</td>\n",
       "    </tr>\n",
       "  </tbody>\n",
       "</table>\n",
       "<p>3065 rows × 6 columns</p>\n",
       "</div>"
      ],
      "text/plain": [
       "                    Open          High           Low         Close  \\\n",
       "Date                                                                 \n",
       "2014-09-17    465.864014    468.174011    452.421997    457.334015   \n",
       "2014-09-18    456.859985    456.859985    413.104004    424.440002   \n",
       "2014-09-19    424.102997    427.834991    384.532013    394.795990   \n",
       "2014-09-20    394.673004    423.295990    389.882996    408.903992   \n",
       "2014-09-21    408.084991    412.425995    393.181000    398.821014   \n",
       "...                  ...           ...           ...           ...   \n",
       "2023-02-02  23720.824219  24167.210938  23468.595703  23471.871094   \n",
       "2023-02-03  23469.412109  23678.103516  23279.955078  23449.322266   \n",
       "2023-02-04  23446.320312  23556.949219  23291.794922  23331.847656   \n",
       "2023-02-05  23332.248047  23423.435547  22841.759766  22955.666016   \n",
       "2023-02-06  22959.066406  23114.501953  22734.601562  23001.607422   \n",
       "\n",
       "               Adj Close       Volume  \n",
       "Date                                   \n",
       "2014-09-17    457.334015     21056800  \n",
       "2014-09-18    424.440002     34483200  \n",
       "2014-09-19    394.795990     37919700  \n",
       "2014-09-20    408.903992     36863600  \n",
       "2014-09-21    398.821014     26580100  \n",
       "...                  ...          ...  \n",
       "2023-02-02  23471.871094  32066936882  \n",
       "2023-02-03  23449.322266  27083066007  \n",
       "2023-02-04  23331.847656  15639298538  \n",
       "2023-02-05  22955.666016  19564262605  \n",
       "2023-02-06  23001.607422  23976634368  \n",
       "\n",
       "[3065 rows x 6 columns]"
      ]
     },
     "execution_count": 2,
     "metadata": {},
     "output_type": "execute_result"
    }
   ],
   "source": [
    "\n",
    "# Load and pre-process the data\n",
    "df = yf.download(tickers='BTC-usd', period='max', interval='1d')\n",
    "df.dropna(inplace=True)\n",
    "df"
   ]
  },
  {
   "cell_type": "code",
   "execution_count": 3,
   "metadata": {},
   "outputs": [
    {
     "name": "stdout",
     "output_type": "stream",
     "text": [
      "<class 'pandas.core.frame.DataFrame'>\n",
      "DatetimeIndex: 3065 entries, 2014-09-17 to 2023-02-06\n",
      "Data columns (total 5 columns):\n",
      " #   Column     Non-Null Count  Dtype  \n",
      "---  ------     --------------  -----  \n",
      " 0   Open       3065 non-null   float64\n",
      " 1   High       3065 non-null   float64\n",
      " 2   Low        3065 non-null   float64\n",
      " 3   Adj Close  3065 non-null   float64\n",
      " 4   Volume     3065 non-null   int64  \n",
      "dtypes: float64(4), int64(1)\n",
      "memory usage: 143.7 KB\n"
     ]
    },
    {
     "data": {
      "text/html": [
       "<div>\n",
       "<style scoped>\n",
       "    .dataframe tbody tr th:only-of-type {\n",
       "        vertical-align: middle;\n",
       "    }\n",
       "\n",
       "    .dataframe tbody tr th {\n",
       "        vertical-align: top;\n",
       "    }\n",
       "\n",
       "    .dataframe thead th {\n",
       "        text-align: right;\n",
       "    }\n",
       "</style>\n",
       "<table border=\"1\" class=\"dataframe\">\n",
       "  <thead>\n",
       "    <tr style=\"text-align: right;\">\n",
       "      <th></th>\n",
       "      <th>Open</th>\n",
       "      <th>High</th>\n",
       "      <th>Low</th>\n",
       "      <th>Adj Close</th>\n",
       "      <th>Volume</th>\n",
       "    </tr>\n",
       "    <tr>\n",
       "      <th>Date</th>\n",
       "      <th></th>\n",
       "      <th></th>\n",
       "      <th></th>\n",
       "      <th></th>\n",
       "      <th></th>\n",
       "    </tr>\n",
       "  </thead>\n",
       "  <tbody>\n",
       "    <tr>\n",
       "      <th>2023-01-28</th>\n",
       "      <td>23079.964844</td>\n",
       "      <td>23165.896484</td>\n",
       "      <td>22908.845703</td>\n",
       "      <td>23031.089844</td>\n",
       "      <td>14712928379</td>\n",
       "    </tr>\n",
       "    <tr>\n",
       "      <th>2023-01-29</th>\n",
       "      <td>23031.449219</td>\n",
       "      <td>23919.890625</td>\n",
       "      <td>22985.070312</td>\n",
       "      <td>23774.566406</td>\n",
       "      <td>27423687259</td>\n",
       "    </tr>\n",
       "    <tr>\n",
       "      <th>2023-01-30</th>\n",
       "      <td>23774.648438</td>\n",
       "      <td>23789.347656</td>\n",
       "      <td>22657.582031</td>\n",
       "      <td>22840.138672</td>\n",
       "      <td>27205595568</td>\n",
       "    </tr>\n",
       "    <tr>\n",
       "      <th>2023-01-31</th>\n",
       "      <td>22840.796875</td>\n",
       "      <td>23225.021484</td>\n",
       "      <td>22765.568359</td>\n",
       "      <td>23139.283203</td>\n",
       "      <td>22837828665</td>\n",
       "    </tr>\n",
       "    <tr>\n",
       "      <th>2023-02-01</th>\n",
       "      <td>23137.835938</td>\n",
       "      <td>23764.539062</td>\n",
       "      <td>22877.750000</td>\n",
       "      <td>23723.769531</td>\n",
       "      <td>26683255504</td>\n",
       "    </tr>\n",
       "    <tr>\n",
       "      <th>2023-02-02</th>\n",
       "      <td>23720.824219</td>\n",
       "      <td>24167.210938</td>\n",
       "      <td>23468.595703</td>\n",
       "      <td>23471.871094</td>\n",
       "      <td>32066936882</td>\n",
       "    </tr>\n",
       "    <tr>\n",
       "      <th>2023-02-03</th>\n",
       "      <td>23469.412109</td>\n",
       "      <td>23678.103516</td>\n",
       "      <td>23279.955078</td>\n",
       "      <td>23449.322266</td>\n",
       "      <td>27083066007</td>\n",
       "    </tr>\n",
       "    <tr>\n",
       "      <th>2023-02-04</th>\n",
       "      <td>23446.320312</td>\n",
       "      <td>23556.949219</td>\n",
       "      <td>23291.794922</td>\n",
       "      <td>23331.847656</td>\n",
       "      <td>15639298538</td>\n",
       "    </tr>\n",
       "    <tr>\n",
       "      <th>2023-02-05</th>\n",
       "      <td>23332.248047</td>\n",
       "      <td>23423.435547</td>\n",
       "      <td>22841.759766</td>\n",
       "      <td>22955.666016</td>\n",
       "      <td>19564262605</td>\n",
       "    </tr>\n",
       "    <tr>\n",
       "      <th>2023-02-06</th>\n",
       "      <td>22959.066406</td>\n",
       "      <td>23114.501953</td>\n",
       "      <td>22734.601562</td>\n",
       "      <td>23001.607422</td>\n",
       "      <td>23976634368</td>\n",
       "    </tr>\n",
       "  </tbody>\n",
       "</table>\n",
       "</div>"
      ],
      "text/plain": [
       "                    Open          High           Low     Adj Close  \\\n",
       "Date                                                                 \n",
       "2023-01-28  23079.964844  23165.896484  22908.845703  23031.089844   \n",
       "2023-01-29  23031.449219  23919.890625  22985.070312  23774.566406   \n",
       "2023-01-30  23774.648438  23789.347656  22657.582031  22840.138672   \n",
       "2023-01-31  22840.796875  23225.021484  22765.568359  23139.283203   \n",
       "2023-02-01  23137.835938  23764.539062  22877.750000  23723.769531   \n",
       "2023-02-02  23720.824219  24167.210938  23468.595703  23471.871094   \n",
       "2023-02-03  23469.412109  23678.103516  23279.955078  23449.322266   \n",
       "2023-02-04  23446.320312  23556.949219  23291.794922  23331.847656   \n",
       "2023-02-05  23332.248047  23423.435547  22841.759766  22955.666016   \n",
       "2023-02-06  22959.066406  23114.501953  22734.601562  23001.607422   \n",
       "\n",
       "                 Volume  \n",
       "Date                     \n",
       "2023-01-28  14712928379  \n",
       "2023-01-29  27423687259  \n",
       "2023-01-30  27205595568  \n",
       "2023-01-31  22837828665  \n",
       "2023-02-01  26683255504  \n",
       "2023-02-02  32066936882  \n",
       "2023-02-03  27083066007  \n",
       "2023-02-04  15639298538  \n",
       "2023-02-05  19564262605  \n",
       "2023-02-06  23976634368  "
      ]
     },
     "execution_count": 3,
     "metadata": {},
     "output_type": "execute_result"
    }
   ],
   "source": [
    "df.drop([ 'Close'], axis=1, inplace=True)\n",
    "# Datetime conversion\n",
    "df['Date'] = pd.to_datetime(df.index)\n",
    "\n",
    "# Setting the index\n",
    "df.set_index('Date', inplace=True)\n",
    "\n",
    "# Dropping any NaNs\n",
    "df.dropna(inplace=True)\n",
    "\n",
    "df.info()\n",
    "df.tail(10)"
   ]
  },
  {
   "cell_type": "code",
   "execution_count": 4,
   "metadata": {},
   "outputs": [
    {
     "data": {
      "text/plain": [
       "(3065, 5)"
      ]
     },
     "execution_count": 4,
     "metadata": {},
     "output_type": "execute_result"
    }
   ],
   "source": [
    "# Split the data into training and test sets\n",
    "train_df = df[:int(len(df)*0.8)]\n",
    "test_df = df[int(len(df)*0.8):]\n",
    "df.shape"
   ]
  },
  {
   "cell_type": "code",
   "execution_count": 5,
   "metadata": {},
   "outputs": [
    {
     "data": {
      "image/png": "[encoded data removed]",
      "text/plain": [
       "<Figure size 1300x600 with 1 Axes>"
      ]
     },
     "metadata": {},
     "output_type": "display_data"
    }
   ],
   "source": [
    "plt.figure(figsize=(13,6))\n",
    "plt.plot(train_df['Adj Close'], label='train Data')\n",
    "plt.plot(test_df['Adj Close'], label='Test Data')\n",
    "plt.xlabel('Date')\n",
    "plt.ylabel('Price')\n",
    "plt.legend()\n",
    "plt.show()"
   ]
  },
  {
   "cell_type": "code",
   "execution_count": 6,
   "metadata": {},
   "outputs": [
    {
     "name": "stdout",
     "output_type": "stream",
     "text": [
      "x_train (2452, 4)\n",
      "y_train (2452,)\n",
      "X_test (613, 4)\n",
      "y_test (613,)\n"
     ]
    }
   ],
   "source": [
    "# Preprocess the data\n",
    "X_train = train_df.drop(['Adj Close'], axis=1).values\n",
    "y_train = train_df['Adj Close'].values\n",
    "\n",
    "X_test = test_df.drop(['Adj Close'], axis=1).values\n",
    "y_test = test_df['Adj Close'].values\n",
    "\n",
    "print(\"x_train\", X_train.shape)\n",
    "print(\"y_train\", y_train.shape)\n",
    "print(\"X_test\", X_test.shape)\n",
    "print(\"y_test\", y_test.shape)"
   ]
  },
  {
   "cell_type": "code",
   "execution_count": 7,
   "metadata": {},
   "outputs": [
    {
     "name": "stdout",
     "output_type": "stream",
     "text": [
      "y_train (2452, 1)\n",
      "y_train (613, 1)\n"
     ]
    }
   ],
   "source": [
    "scaler = MinMaxScaler()\n",
    "X_train = scaler.fit_transform(X_train)\n",
    "X_test = scaler.fit_transform(X_test)\n",
    "y_train = y_train.reshape(-1, 1)\n",
    "y_train = scaler.fit_transform(y_train)\n",
    "y_test = y_test.reshape(-1, 1)\n",
    "y_test = scaler.fit_transform(y_test)\n",
    "print('y_train',y_train.shape)\n",
    "print('y_test', y_test.shape)"
   ]
  },
  {
   "cell_type": "code",
   "execution_count": null,
   "metadata": {},
   "outputs": [],
   "source": [
    "# Split the data into training and test sets\n",
    "train_size = int(len(df) * 0.8)\n",
    "test_size = len(df) - train_size\n",
    "train, test = df[0:train_size,:], df[train_size:len(df),:]\n",
    "print('train_size',train_size)\n",
    "print('test_size', test_size)\n",
    "print(\"train\", train.shape)\n",
    "print(\"test\", test.shape)"
   ]
  },
  {
   "cell_type": "code",
   "execution_count": null,
   "metadata": {},
   "outputs": [],
   "source": [
    "# Convert the data into a 3D array (a sequence of sequences of timesteps)\n",
    "def create_sequences(data, sequence_length):\n",
    "    X = []\n",
    "    y = []\n",
    "    for i in range(len(data) - sequence_length - 1):\n",
    "        X.append(data[i:i + sequence_length])\n",
    "        y.append(data[i + sequence_length])\n",
    "    return np.array(X), np.array(y)\n",
    "\n",
    "sequence_length = 1\n",
    "X_train, y_train = create_sequences(train, sequence_length)\n",
    "X_test, y_test = create_sequences(test, sequence_length)\n",
    "print(\"X_train\" , X_train.shape)\n",
    "print(\"y_train\", y_train.shape)\n",
    "print (\"x_test\",X_test.shape)\n",
    "print (\"y_test\",y_test.shape)"
   ]
  },
  {
   "cell_type": "code",
   "execution_count": null,
   "metadata": {},
   "outputs": [],
   "source": [
    "def create_sequences1(data, sequence_length):\n",
    "    X = []\n",
    "    y = []\n",
    "    for i in range(len(data) - sequence_length ):\n",
    "        X.append(data[i:i + sequence_length])\n",
    "        y.append(data[i + sequence_length])\n",
    "    return np.array(X), np.array(y)\n",
    "\n",
    "sequence_length = 1\n",
    "X_train, y_train = create_sequences1(train, sequence_length)\n",
    "X_test, y_test = create_sequences1(test, sequence_length)\n",
    "print(\"X_train\" , X_train.shape)\n",
    "print(\"y_train\", y_train.shape)\n",
    "print (\"x_test\",X_test.shape)\n",
    "print (\"y_test\",y_test.shape)\n"
   ]
  },
  {
   "cell_type": "code",
   "execution_count": null,
   "metadata": {},
   "outputs": [],
   "source": [
    "# Reshape the input data for the model\n",
    "X_train = X_train.reshape((X_train.shape[0], 1, X_train.shape[1]))\n",
    "X_test = X_test.reshape((X_test.shape[0], 1,  X_test.shape[1]))\n",
    "print(\"X_train\", X_train.shape)\n",
    "print(\"X_test\", X_test.shape)"
   ]
  },
  {
   "cell_type": "code",
   "execution_count": null,
   "metadata": {},
   "outputs": [],
   "source": [
    "# Build and compile the model\n",
    "#model = Sequential()\n",
    "#model.add(LSTM(50, input_shape=(sequence_length, 6)))\n",
    "#model.add(Dense(1))\n",
    "#model.compile(loss='mean_squared_error', optimizer='adam')\n",
    "#model = Sequential()\n",
    "#model.add(LSTM(100, input_shape=(sequence_length,X_train.shape[2]), return_sequences=True , activation= 'softmax'))\n",
    "#model.add(Dropout(0.2))\n",
    "#model.add(LSTM(100, activation= 'softmax'))\n",
    "#model.add(Dropout(0.2))\n",
    "#model.add(Dense(X_train.shape[2]))\n",
    "#model.compile(loss='mean_squared_error', optimizer='adam')\n",
    "#model.summary()\n",
    "\n",
    "# Step 6: Building the Bidirectional LSTM model (cont.)\n",
    "model = Sequential()\n",
    "model.add(LSTM(100, input_shape=(X_train.shape[1], X_train.shape[2]), return_sequences=True , activation= 'tanh'))\n",
    "model.add(Dropout(0.2))\n",
    "model.add(LSTM(100, activation= 'tanh'))\n",
    "model.add(Dropout(0.2))\n",
    "model.add(Dense(1))\n",
    "model.compile(loss='mean_squared_error', optimizer='adam', metrics=['accuracy'])\n",
    "model.summary()"
   ]
  },
  {
   "cell_type": "code",
   "execution_count": null,
   "metadata": {},
   "outputs": [],
   "source": [
    "# Train the model\n",
    "history =model.fit(X_train, y_train, batch_size=32, epochs=250, validation_data=(X_test, y_test))"
   ]
  },
  {
   "cell_type": "code",
   "execution_count": null,
   "metadata": {},
   "outputs": [],
   "source": [
    "# Evaluate the model on the test set\n",
    "score = model.evaluate(X_test, y_test, verbose=0)\n",
    "print('Test loss:' ,score)\n"
   ]
  },
  {
   "cell_type": "code",
   "execution_count": null,
   "metadata": {},
   "outputs": [],
   "source": [
    "# Evaluate the model on the test set\n",
    "y_pred = model.predict(X_test)\n",
    "\n",
    "y_pred = scaler.inverse_transform(y_pred)\n",
    "y_test = scaler.inverse_transform(y_test)"
   ]
  },
  {
   "cell_type": "code",
   "execution_count": null,
   "metadata": {},
   "outputs": [],
   "source": [
    "\n",
    "# Calculate mean absolute error (MAE)\n",
    "def mae(y_true, y_pred):\n",
    "    return np.mean(np.abs(y_true - y_pred))\n",
    "\n",
    "# Calculate root mean squared error (RMSE)\n",
    "def rmse(y_true, y_pred):\n",
    "    return np.sqrt(np.mean((y_true - y_pred)**2))\n",
    "\n",
    "# Calculate mean absolute percentage error (MAPE)\n",
    "def mape(y_true, y_pred):\n",
    "    return np.mean(np.abs((y_true - y_pred) / y_true))\n"
   ]
  },
  {
   "cell_type": "code",
   "execution_count": null,
   "metadata": {},
   "outputs": [],
   "source": [
    "# Calculate the metrics\n",
    "mae_value = mae(y_test, y_pred)\n",
    "rmse_value = rmse(y_test, y_pred)\n",
    "mape_value = mape(y_test, y_pred)\n",
    "\n",
    "\n",
    "# Print the metric values\n",
    "print(f'MAE: {mae_value:.4f}')\n",
    "print(f'RMSE: {rmse_value:.4f}')\n",
    "print(f'MAPE: {mape_value:.4f}%')"
   ]
  },
  {
   "cell_type": "code",
   "execution_count": null,
   "metadata": {},
   "outputs": [],
   "source": [
    "# Make sure that the number of outputs of the model match the number of outputs in y_test\n",
    "print('y_pred.shape[1]',y_pred.shape[1])\n",
    "print('test.shape[1]',y_test.shape[1])\n",
    "assert y_pred.shape[1] == y_test.shape[1]"
   ]
  },
  {
   "cell_type": "code",
   "execution_count": null,
   "metadata": {},
   "outputs": [],
   "source": [
    "#evaluat\n",
    "mse = mean_squared_error(y_test, y_pred)\n",
    "mae = mean_absolute_error(y_test, y_pred)\n",
    "mape = 100 * np.mean(np.abs((y_test - y_pred) / y_test))\n",
    "rmse = np.sqrt(mean_squared_error(y_test, y_pred))\n",
    "\n",
    "print(\"MAPE: {:.4f}%\".format(mape))\n",
    "print(\"RMSE: {:.4f}\".format(rmse))\n",
    "print(\"MSE: {:.4f}\".format(mse))\n",
    "print(\"MAE:{:.4f}\".format(mae))"
   ]
  },
  {
   "cell_type": "code",
   "execution_count": null,
   "metadata": {},
   "outputs": [],
   "source": [
    "def smape(y_true, y_pred):\n",
    "    return 200 * np.mean(np.abs(y_pred - y_true) / (np.abs(y_pred) + np.abs(y_true)))\n",
    "\n",
    "SMAPE1 = smape(y_test, y_pred)\n",
    "print(\"smape: {:.2f}%\".format(SMAPE1))"
   ]
  },
  {
   "cell_type": "code",
   "execution_count": null,
   "metadata": {},
   "outputs": [],
   "source": [
    "def visualize_training_results(results):\n",
    "    \"\"\"\n",
    "    Plots the loss and accuracy for the training and testing data\n",
    "    \"\"\"\n",
    "    history = results.history\n",
    "    plt.figure(figsize=(16,5))\n",
    "    plt.plot(history['val_loss'])\n",
    "    plt.plot(history['loss'])\n",
    "    plt.legend(['val_loss', 'loss'])\n",
    "    plt.title('Loss')\n",
    "    plt.xlabel('Epochs')\n",
    "    plt.ylabel('Loss')\n",
    "    plt.show()\n",
    "    \n",
    "    plt.figure(figsize=(16,5))\n",
    "    plt.plot(history['val_accuracy'])\n",
    "    plt.plot(history['accuracy'])\n",
    "    plt.legend(['val_accuracy', 'accuracy'])\n",
    "    plt.title('Accuracy')\n",
    "    plt.xlabel('Epochs')\n",
    "    plt.ylabel('Accuracy')\n",
    "    plt.show()"
   ]
  },
  {
   "cell_type": "code",
   "execution_count": null,
   "metadata": {},
   "outputs": [],
   "source": [
    "visualize_training_results(history)"
   ]
  },
  {
   "cell_type": "code",
   "execution_count": null,
   "metadata": {},
   "outputs": [],
   "source": [
    "import matplotlib.pyplot as plt\n",
    "\n",
    "# Plot the true values and predicted values\n",
    "plt.plot(y_test, label='True values')\n",
    "plt.plot(y_pred, label='Predicted values')\n",
    "\n",
    "# Add a legend and show the plot\n",
    "plt.legend()\n",
    "plt.show()"
   ]
  },
  {
   "cell_type": "code",
   "execution_count": null,
   "metadata": {},
   "outputs": [],
   "source": [
    "\n",
    "y_pred_df = pd.DataFrame(y_pred, columns=[ \"Adj Close\"])\n",
    "y_test_df = pd.DataFrame(y_test, columns=[ \"Adj Close\"])\n",
    "\n",
    "# Get the length of y_pred\n",
    "y_pred_length = y_pred.shape[0]\n",
    "y_test_length = y_test.shape[0]\n",
    "\n",
    "# Generate dates for the next y_pred_length days\n",
    "today = pd.Timestamp.now().date()\n",
    "prediction_dates = today - timedelta(days=y_pred_length-1)\n",
    "test = today - timedelta(days=y_test_length-1)\n",
    "prediction = pd.date_range(start=prediction_dates, end=today, freq='D')\n",
    "test_dates = pd.date_range(start=test,end=today, freq='D')\n",
    "\n",
    "# Use the generated dates as the index of the DataFrame\n",
    "y_pred_df['Date'] = prediction\n",
    "\n",
    "y_test_df['Date'] = test_dates\n",
    "\n",
    "# Set the index of the dataframes to be the 'Date' column\n",
    "y_pred_df.set_index('Date', inplace=True)\n",
    "y_test_df.set_index('Date', inplace=True)\n"
   ]
  },
  {
   "cell_type": "code",
   "execution_count": null,
   "metadata": {},
   "outputs": [],
   "source": [
    "y_pred_df"
   ]
  },
  {
   "cell_type": "code",
   "execution_count": null,
   "metadata": {},
   "outputs": [],
   "source": [
    "y_test_df"
   ]
  },
  {
   "cell_type": "code",
   "execution_count": null,
   "metadata": {},
   "outputs": [],
   "source": [
    "plt.figure(figsize=(13,6))\n",
    "plt.plot(y_pred_df['Adj Close'], label='Predictions')\n",
    "plt.plot(y_test_df['Adj Close'], label='Test Data')\n",
    "plt.xlabel('Date')\n",
    "plt.ylabel('Price')\n",
    "plt.legend()\n",
    "plt.show()"
   ]
  }
 ],
 "metadata": {
  "kernelspec": {
   "display_name": "Python 3",
   "language": "python",
   "name": "python3"
  },
  "language_info": {
   "codemirror_mode": {
    "name": "ipython",
    "version": 3
   },
   "file_extension": ".py",
   "mimetype": "text/x-python",
   "name": "python",
   "nbconvert_exporter": "python",
   "pygments_lexer": "ipython3",
   "version": "3.10.9"
  },
  "orig_nbformat": 4,
  "vscode": {
   "interpreter": {
    "hash": "67e0cbc25fa4f5baaacba1240f401bc655b640f8e15cfc935dfee2e63491bdf4"
   }
  }
 },
 "nbformat": 4,
 "nbformat_minor": 2
}
