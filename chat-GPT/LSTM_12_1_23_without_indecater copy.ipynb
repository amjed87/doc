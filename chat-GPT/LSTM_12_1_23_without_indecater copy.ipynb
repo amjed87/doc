{
 "cells": [
  {
   "cell_type": "code",
   "execution_count": 1,
   "metadata": {},
   "outputs": [],
   "source": [
    "import pandas as pd\n",
    "import numpy as np\n",
    "import pandas_ta as ta\n",
    "import yfinance as yf\n",
    "from sklearn.preprocessing import MinMaxScaler\n",
    "from sklearn.metrics import mean_squared_error, mean_absolute_error \n",
    "from sklearn.model_selection import train_test_split\n",
    "from keras.models import Sequential\n",
    "from keras.layers import LSTM, Dense, Dropout"
   ]
  },
  {
   "cell_type": "code",
   "execution_count": null,
   "metadata": {},
   "outputs": [],
   "source": [
    "\n",
    "# Step 1: Data cleaning\n",
    "data = yf.download(tickers='BTC-usd', period='max', interval='1d')\n",
    "data.dropna(inplace=True)\n",
    "data"
   ]
  },
  {
   "cell_type": "code",
   "execution_count": null,
   "metadata": {},
   "outputs": [],
   "source": [
    "\n",
    "data.drop([ 'Close'], axis=1, inplace=True)\n",
    "data"
   ]
  },
  {
   "cell_type": "code",
   "execution_count": null,
   "metadata": {},
   "outputs": [],
   "source": [
    "# Step 3: Data normalization (cont.)\n",
    "scaler = MinMaxScaler()\n",
    "data_close = data[['Adj Close']]\n",
    "data_close = scaler.fit_transform(data_close)\n",
    "data_close"
   ]
  },
  {
   "cell_type": "code",
   "execution_count": null,
   "metadata": {},
   "outputs": [],
   "source": [
    "# Step 4: Splitting the data\n",
    "X = data[['Open', 'High', 'Low', 'Volume']]\n",
    "X = scaler.fit_transform(X)\n",
    "y = data_close\n",
    "X_train, X_test, y_train, y_test = train_test_split(X, y, test_size=0.2, shuffle=False)"
   ]
  },
  {
   "cell_type": "code",
   "execution_count": null,
   "metadata": {},
   "outputs": [],
   "source": [
    "# Step 5: Reshaping the data\n",
    "X_train = np.reshape(X_train, (X_train.shape[0], 1, X_train.shape[1]))\n",
    "X_test = np.reshape(X_test, (X_test.shape[0],1, X_test.shape[1]))\n",
    "print(\"x\", X.shape)\n",
    "print('y',y.shape)\n",
    "print('X_train', X_train.shape)\n",
    "print('y_train', y_train.shape)\n",
    "print('X_test', X_test.shape)\n",
    "print('Y_test', y_test.shape) \n",
    "print('X_train.shape[1]', X_train.shape[1])\n",
    "print('X_train.shape[2]', X_train.shape[2])"
   ]
  },
  {
   "cell_type": "code",
   "execution_count": null,
   "metadata": {},
   "outputs": [],
   "source": [
    "# Step 6: Building the LSTM model (cont.)\n",
    "\n",
    "model = Sequential()\n",
    "model.add(LSTM(100, input_shape=(X_train.shape[1], X_train.shape[2]), return_sequences=True , activation= 'softmax'))\n",
    "model.add(Dropout(0.2))\n",
    "model.add(LSTM(100, activation= 'softmax'))\n",
    "model.add(Dropout(0.2))\n",
    "model.add(Dense(1))\n",
    "model.compile(loss='mean_squared_error', optimizer='adam')\n",
    "model.summary()"
   ]
  },
  {
   "cell_type": "code",
   "execution_count": null,
   "metadata": {},
   "outputs": [],
   "source": [
    "# Step 7: Training and evaluating the model\n",
    "history = model.fit(X_train, y_train, epochs=250, batch_size=32, validation_data=(X_test, y_test))"
   ]
  },
  {
   "cell_type": "code",
   "execution_count": null,
   "metadata": {},
   "outputs": [],
   "source": [
    "# Evaluate the model on the test set\n",
    "score = model.evaluate(X_test, y_test, verbose=0)\n",
    "print(f'Test loss: {score:.4f}')"
   ]
  },
  {
   "cell_type": "code",
   "execution_count": null,
   "metadata": {},
   "outputs": [],
   "source": [
    "\n",
    "# Step 8: Tuning the Hyperparameters\n",
    "# You can use techniques such as grid search or random search to find the best values for the model's hyperparameters\n",
    "\n",
    "# Step 9: Testing the model\n",
    "y_pred = model.predict(X_test)\n",
    "print('y_pred',y_pred.shape)\n",
    "print('y_test',y_test.shape)\n",
    "y_pred = y_pred.reshape(y_pred.shape[0], 1, y_pred.shape[1])\n",
    "\n",
    "print('y_pred',y_pred.shape)\n",
    "\n",
    "#y_pred = np.nan_to_num(y_pred)\n",
    "y_pred = scaler.inverse_transform(y_pred)\n",
    "#y_pred = scaler.inverse_transform(y_pred[:,[-1]])\n",
    "#y_test = scaler.inverse_transform(y_test.reshape(-1, 1))\n",
    "#y_test = np.nan_to_num(y_test)\n",
    "\n",
    "\n",
    "#evaluat\n",
    "mse = mean_squared_error(y_test, y_pred)\n",
    "mae = mean_absolute_error(y_test, y_pred)\n",
    "mape = 100 * np.mean(np.abs((y_test - y_pred) / y_test))\n",
    "rmse = np.sqrt(mean_squared_error(y_test, y_pred))\n",
    "\n",
    "print(\"MAPE: {:.4f}%\".format(mape))\n",
    "print(\"RMSE: {:.4f}\".format(rmse))\n",
    "print(\"MSE: {:.4f}\".format(mse))\n",
    "print(\"MAE:{:.4f}\".format(mae))"
   ]
  },
  {
   "cell_type": "code",
   "execution_count": null,
   "metadata": {},
   "outputs": [],
   "source": [
    "def smape(y_true, y_pred):\n",
    "    return 200 * np.mean(np.abs(y_pred - y_true) / (np.abs(y_pred) + np.abs(y_true)))\n",
    "\n",
    "SMAPE1 = smape(y_test, y_pred)\n",
    "print(\"smape: {:.4f}%\".format(SMAPE1))"
   ]
  },
  {
   "cell_type": "code",
   "execution_count": null,
   "metadata": {},
   "outputs": [],
   "source": [
    "import matplotlib.pyplot as plt\n",
    "\n",
    "# Assume that you have stored the date information in a variable called 'date'\n",
    "# Assume that you have stored the predictions in a variable called 'y_pred'\n",
    "# Assume that you have stored the test data in a variable called 'y_test'\n",
    "\n",
    "# Plot the test data and predictions on a line chart\n",
    "plt.plot(data['Date'], y_pred, label='Predictions')\n",
    "plt.plot(data['Date'], y_test, label='Test Data')\n",
    "plt.xlabel('Date')\n",
    "plt.ylabel('Price')\n",
    "plt.legend()\n",
    "plt.show()"
   ]
  },
  {
   "cell_type": "code",
   "execution_count": null,
   "metadata": {},
   "outputs": [],
   "source": [
    "y_pred = scaler.inverse_transform(y_pred)\n",
    "#y_pred = scaler.inverse_transform(y_pred[:,[-1]])\n",
    "#y_test = scaler.inverse_transform(y_test.reshape(-1, 1))\n",
    "print ('y_pred',y_pred)"
   ]
  }
 ],
 "metadata": {
  "kernelspec": {
   "display_name": "Python 3",
   "language": "python",
   "name": "python3"
  },
  "language_info": {
   "codemirror_mode": {
    "name": "ipython",
    "version": 3
   },
   "file_extension": ".py",
   "mimetype": "text/x-python",
   "name": "python",
   "nbconvert_exporter": "python",
   "pygments_lexer": "ipython3",
   "version": "3.10.9"
  },
  "orig_nbformat": 4,
  "vscode": {
   "interpreter": {
    "hash": "67e0cbc25fa4f5baaacba1240f401bc655b640f8e15cfc935dfee2e63491bdf4"
   }
  }
 },
 "nbformat": 4,
 "nbformat_minor": 2
}
